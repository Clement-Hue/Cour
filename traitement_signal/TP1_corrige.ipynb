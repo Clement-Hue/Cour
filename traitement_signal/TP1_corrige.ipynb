{
 "cells": [
  {
   "cell_type": "markdown",
   "metadata": {},
   "source": [
    "## TP1 Traitement du signal - Prise en main de Python pour faire du traitement du signal"
   ]
  },
  {
   "cell_type": "markdown",
   "metadata": {},
   "source": [
    "## Notebook Jupyter et Python"
   ]
  },
  {
   "cell_type": "markdown",
   "metadata": {},
   "source": [
    "## Quelques rappels de Python utiles pour faire du traitement du signal"
   ]
  },
  {
   "cell_type": "markdown",
   "metadata": {},
   "source": [
    "### La bibliothèque numpy"
   ]
  },
  {
   "cell_type": "markdown",
   "metadata": {},
   "source": [
    "La bibliothèqe [numpy](https://numpy.org/) permet de manipuler des matrices et des tableaux à n dimensions dans Python. Elle est particulièrement utilisée pour du calcul scientifique et en traitement du signal et des images. \n",
    "\n",
    "Les vecteurs et matrices sont des [numpy.array](https://numpy.org/doc/stable/reference/generated/numpy.array.html) de 1 et 2 dimensions. \n",
    "\n",
    "Quelques exemples d'opérations de base entre vecteurs et matrices sont présentées ci-dessous. "
   ]
  },
  {
   "cell_type": "code",
   "execution_count": 1,
   "metadata": {
    "scrolled": false
   },
   "outputs": [
    {
     "name": "stdout",
     "output_type": "stream",
     "text": [
      "[1 2 3 4]\n",
      "[2 3]\n",
      "\n",
      "[[1 2]\n",
      " [3 4]]\n",
      "7\n",
      "\n",
      "[[ 5  7]\n",
      " [ 9 11]]\n",
      "\n",
      "[[3 3]\n",
      " [3 3]]\n",
      "\n",
      "[[ 4 10]\n",
      " [18 28]]\n",
      "\n",
      "[[4.   2.5 ]\n",
      " [2.   1.75]]\n",
      "\n",
      "[[16 19]\n",
      " [36 43]]\n",
      "\n"
     ]
    }
   ],
   "source": [
    "import numpy as np\n",
    "\n",
    "vect1 = np.array([1,2,3,4])\n",
    "print(vect1)\n",
    "print(vect1[1:3]) #vect[i:j] permet d'accéder à l'ensemble des éléments de rang i (inclus) à j (non inclus)\n",
    "print()\n",
    "\n",
    "mat1 = np.array([[1,2],[3,4]])\n",
    "print(mat1)\n",
    "mat2 = np.array([[4,5],[6,7]])\n",
    "print(mat2[1,1]) #affichage de l'élément (1,1) soit l'élément appartenant à la deuxième ligne et la deuxième colonne\n",
    "print()\n",
    "\n",
    "mat3 = mat1 + mat2\n",
    "print(mat3)\n",
    "print()\n",
    "\n",
    "mat3 = mat2-mat1\n",
    "print(mat3)\n",
    "print()\n",
    "\n",
    "mat3 = mat1*mat2 #multiplication des éléments des deux matrices terme à terme\n",
    "print(mat3)\n",
    "print()\n",
    "\n",
    "mat3 = mat2/mat1 #division des éléments des deux matrices terme à terme\n",
    "print(mat3)\n",
    "print()\n",
    "\n",
    "mat3 = np.dot(mat1,mat2) #produit matriciel\n",
    "print(mat3)\n",
    "print()"
   ]
  },
  {
   "cell_type": "markdown",
   "metadata": {},
   "source": [
    "**ACTION :** Créer une matrice A de taille 4x4 (avec numpy) que vous peuplez aléatoirement. Accéder et afficher : \n",
    "- la première ligne de A \n",
    "- la quatrième colonne de A \n",
    "- les trois premiers éléments de la quatrième ligne de A "
   ]
  },
  {
   "cell_type": "code",
   "execution_count": 2,
   "metadata": {},
   "outputs": [
    {
     "name": "stdout",
     "output_type": "stream",
     "text": [
      "[[0.30681422 0.72940089 0.43568654 0.61322331]\n",
      " [0.90489697 0.75364238 0.90634926 0.17877719]\n",
      " [0.58427426 0.74213421 0.41676705 0.98197071]\n",
      " [0.18371287 0.14279181 0.75306635 0.15113305]]\n",
      "\n",
      "[0.30681422 0.72940089 0.43568654 0.61322331]\n",
      "\n",
      "[0.61322331 0.17877719 0.98197071 0.15113305]\n",
      "\n",
      "[0.18371287 0.14279181 0.75306635]\n",
      "\n",
      "[0.18371287 0.14279181 0.75306635]\n",
      "\n"
     ]
    }
   ],
   "source": [
    "import numpy as np\n",
    "\n",
    "A = np.random.rand(4,4) # matrice 4x4 aléatoire (loi uniforme)\n",
    "print(A)\n",
    "print()\n",
    "\n",
    "\n",
    "# Rq1. : 1er index matrice : (0,0)\n",
    "# Rq2. : (a,b) avec a indice des lignes, b indice des colonnes  \n",
    "print( A[0, :]) # 1ere ligne de A\n",
    "print()\n",
    "\n",
    "print( (A[:,3]) ) # 4e colonne de A\n",
    "print()\n",
    "\n",
    "print( (A[3, [i for i in range(0,3)] ]) ) # 3 premiers éléments de la 4e ligne de A\n",
    "print()\n",
    "\n",
    "print( (A[3,:3]) ) # 3 premiers éléments de la 4e ligne de A\n",
    "print()\n",
    "\n",
    "\n"
   ]
  },
  {
   "cell_type": "markdown",
   "metadata": {},
   "source": [
    "### La bibliothèque matplotlib"
   ]
  },
  {
   "cell_type": "markdown",
   "metadata": {},
   "source": [
    "La bibliothèque [matplotlib](https://matplotlib.org/) permet de visualiser des données sous forme de graphique. Elle nous sera utile pour afficher les signaux 1D et les signaux 2D (sous forme d'image). "
   ]
  },
  {
   "cell_type": "markdown",
   "metadata": {},
   "source": [
    "**ACTION  :** L’affichage d’un vecteur se fait par l’intermédiaire de la fonction [plot](https://matplotlib.org/3.1.1/api/_as_gen/matplotlib.pyplot.plot.html) très utile pour obtenir des courbes de différentes fonctions planes. La commande matplotwidget permet de manipuler les figures dans le notebook. \n",
    "Tester le code dans les cellules ci-dessous. "
   ]
  },
  {
   "cell_type": "code",
   "execution_count": 8,
   "metadata": {},
   "outputs": [
    {
     "data": {
      "application/vnd.jupyter.widget-view+json": {
       "model_id": "310ea4af7fcc4379bd327c997830ac03",
       "version_major": 2,
       "version_minor": 0
      },
      "text/plain": [
       "Canvas(toolbar=Toolbar(toolitems=[('Home', 'Reset original view', 'home', 'home'), ('Back', 'Back to previous …"
      ]
     },
     "metadata": {},
     "output_type": "display_data"
    },
    {
     "data": {
      "application/vnd.jupyter.widget-view+json": {
       "model_id": "49211aabcbb443c3ae1b78702fdb7da1",
       "version_major": 2,
       "version_minor": 0
      },
      "text/plain": [
       "Canvas(toolbar=Toolbar(toolitems=[('Home', 'Reset original view', 'home', 'home'), ('Back', 'Back to previous …"
      ]
     },
     "metadata": {},
     "output_type": "display_data"
    },
    {
     "data": {
      "application/vnd.jupyter.widget-view+json": {
       "model_id": "d66edc86c214499085e03180524169b8",
       "version_major": 2,
       "version_minor": 0
      },
      "text/plain": [
       "Canvas(toolbar=Toolbar(toolitems=[('Home', 'Reset original view', 'home', 'home'), ('Back', 'Back to previous …"
      ]
     },
     "metadata": {},
     "output_type": "display_data"
    },
    {
     "data": {
      "application/vnd.jupyter.widget-view+json": {
       "model_id": "a9d3bdd9f4134351928ee8f773b1a180",
       "version_major": 2,
       "version_minor": 0
      },
      "text/plain": [
       "Canvas(toolbar=Toolbar(toolitems=[('Home', 'Reset original view', 'home', 'home'), ('Back', 'Back to previous …"
      ]
     },
     "metadata": {},
     "output_type": "display_data"
    },
    {
     "data": {
      "text/plain": [
       "<matplotlib.legend.Legend at 0x119082e20>"
      ]
     },
     "execution_count": 8,
     "metadata": {},
     "output_type": "execute_result"
    }
   ],
   "source": [
    "%matplotlib widget \n",
    "# gere la barre latérale (zoom, etc.) Rq. : si pb à la place de \"widget\" utiliser \"inline\"\n",
    "\n",
    "import matplotlib.pyplot as plt\n",
    "import math\n",
    "\n",
    "x = np.array([i for i in range(0,10,3)]) #création d'un vecteur qui contient des éléments de 0 à 10 (non inclus) avec un pas de 3\n",
    "plt.plot(x) #affichage par défaut du vecteur\n",
    "\n",
    "plt.figure() #création d'une nouvelle figure\n",
    "plt.plot(x,'r*') #affichage du vecteur en rouge avec des marqueurs \"étoiles\"\n",
    "\n",
    "y = np.random.rand(4) #création d'un vecteur de taille 4 avec des éléments aléatoires compris entre 0 et 1. \n",
    "\n",
    "plt.figure()\n",
    "plt.plot(y,'o-') #affichage du vecteur y avec la couleur par défaut, des marqueurs '+'. Les points sont reliés. \n",
    "plt.plot(x,y,'g*-') #affichage de la fonction y = f(x) en vert. Les points sont des marqueurs '*' et ils sont reliés. \n",
    "#si on ne crée pas une nouvelle figure avant de dessiner (plot), la courbe est dessinée dans la figure précédente (en superposition)\n",
    "\n",
    "plt.figure()\n",
    "z = np.linspace(-math.pi, math.pi, 10)\n",
    "plt.plot(z, np.sin(z), 'r*-')\n",
    "plt.title(\"Fct sinus\")\n",
    "plt.legend([\"Sinus\"])\n"
   ]
  },
  {
   "cell_type": "markdown",
   "metadata": {},
   "source": [
    "**ACTION :** L’affichage d’une matrice correspond lui à celui d’une image. Chaque élément *(m, n)* de la matrice est considéré comme étant la valeur du pixel *(m, n)* auquel il est associé. Vérifier ceci en entrant les commandes suivantes."
   ]
  },
  {
   "cell_type": "code",
   "execution_count": 9,
   "metadata": {},
   "outputs": [
    {
     "name": "stdout",
     "output_type": "stream",
     "text": [
      "21192.35928858608 1.0036813905383173\n",
      "\n"
     ]
    },
    {
     "data": {
      "application/vnd.jupyter.widget-view+json": {
       "model_id": "b66381cdf44a4ae29a69c233f82486c1",
       "version_major": 2,
       "version_minor": 0
      },
      "text/plain": [
       "Canvas(toolbar=Toolbar(toolitems=[('Home', 'Reset original view', 'home', 'home'), ('Back', 'Back to previous …"
      ]
     },
     "metadata": {},
     "output_type": "display_data"
    },
    {
     "data": {
      "text/plain": [
       "<matplotlib.colorbar.Colorbar at 0x118d95610>"
      ]
     },
     "execution_count": 9,
     "metadata": {},
     "output_type": "execute_result"
    }
   ],
   "source": [
    "a = np.random.rand(10,10)*10 #matrice 10x10 avec des éléments de 0 à 10\n",
    "a = np.exp(a) #pour obtenir de plus grands écarts entre les éléments de la matrice a\n",
    "\n",
    "print(np.max(a), np.min(a))\n",
    "print()\n",
    "\n",
    "plt.figure() #nouvelle figure\n",
    "plt.imshow(a) #afficher l'image correspondant à la matrice a\n",
    "plt.colorbar()"
   ]
  },
  {
   "cell_type": "markdown",
   "metadata": {},
   "source": [
    "Par défaut, *imshow* utilse la colormap *viridis* si la matrice est 2D. On associe généralement ce type de matrice à une image en niveau de gris. Il faut donc spécifier la colormap."
   ]
  },
  {
   "cell_type": "code",
   "execution_count": 11,
   "metadata": {
    "scrolled": true
   },
   "outputs": [
    {
     "data": {
      "application/vnd.jupyter.widget-view+json": {
       "model_id": "097cddf8273d4e8f881fd9edd504fd8b",
       "version_major": 2,
       "version_minor": 0
      },
      "text/plain": [
       "Canvas(toolbar=Toolbar(toolitems=[('Home', 'Reset original view', 'home', 'home'), ('Back', 'Back to previous …"
      ]
     },
     "metadata": {},
     "output_type": "display_data"
    },
    {
     "data": {
      "text/plain": [
       "<matplotlib.colorbar.Colorbar at 0x1191df190>"
      ]
     },
     "execution_count": 11,
     "metadata": {},
     "output_type": "execute_result"
    }
   ],
   "source": [
    "#grey_map=plt.cm.gray #définition de la colormap en niveau de gris (existe déjà dans la bibliothèque)\n",
    "grey_map=plt.cm.magma #définition de la colormap \"magma\" \n",
    "plt.figure()\n",
    "plt.imshow(a, grey_map) #affichage avec cette color map\n",
    "plt.colorbar()"
   ]
  },
  {
   "cell_type": "markdown",
   "metadata": {},
   "source": [
    "## Premiers pas en traitement du signal avec Python"
   ]
  },
  {
   "cell_type": "markdown",
   "metadata": {},
   "source": [
    "### Premier signal"
   ]
  },
  {
   "cell_type": "markdown",
   "metadata": {},
   "source": [
    "Un signal 1D peut être vu comme un vecteur où la durée d'observation est la taille du vecteur (nombre d'éléments)."
   ]
  },
  {
   "cell_type": "markdown",
   "metadata": {},
   "source": [
    "**ACTION :** Ecrire une fonction *my_impulse* qui renvoie un signal impulsion avec 2 arguments en entrée, un pour définir la durée d’observation du signal, un autre pour la position de l’impulsion. Tester la fonction en affichant le résultat avec les fonctions *plot* et *stem*."
   ]
  },
  {
   "cell_type": "code",
   "execution_count": 13,
   "metadata": {},
   "outputs": [
    {
     "data": {
      "application/vnd.jupyter.widget-view+json": {
       "model_id": "21a8bf114f8c4c61b73b95f98364dfd6",
       "version_major": 2,
       "version_minor": 0
      },
      "text/plain": [
       "Canvas(toolbar=Toolbar(toolitems=[('Home', 'Reset original view', 'home', 'home'), ('Back', 'Back to previous …"
      ]
     },
     "metadata": {},
     "output_type": "display_data"
    },
    {
     "data": {
      "application/vnd.jupyter.widget-view+json": {
       "model_id": "58b25f7437504ca9908b26e90466f028",
       "version_major": 2,
       "version_minor": 0
      },
      "text/plain": [
       "Canvas(toolbar=Toolbar(toolitems=[('Home', 'Reset original view', 'home', 'home'), ('Back', 'Back to previous …"
      ]
     },
     "metadata": {},
     "output_type": "display_data"
    },
    {
     "data": {
      "text/plain": [
       "Text(0.5, 1.0, 'My Impulse')"
      ]
     },
     "execution_count": 13,
     "metadata": {},
     "output_type": "execute_result"
    }
   ],
   "source": [
    "def my_impulse(duree, position) :\n",
    "    s = np.zeros(duree)\n",
    "    s[position] = 1\n",
    "    return s\n",
    "    \n",
    "s = my_impulse(200,56)\n",
    "plt.figure()\n",
    "plt.plot(s, '*-')\n",
    "plt.title(\"My Impulse\")\n",
    "\n",
    "plt.figure()\n",
    "plt.stem(s)\n",
    "plt.title(\"My Impulse\")"
   ]
  },
  {
   "cell_type": "markdown",
   "metadata": {},
   "source": [
    "### Signaux sinusoïdaux"
   ]
  },
  {
   "cell_type": "markdown",
   "metadata": {},
   "source": [
    "**ACTION :** Créer deux signaux sinusoïdaux de fréquence *20 Hz* et *80 Hz* respectivement échantillonnés à *200 Hz*. L'échantillonnage est vu ici comme la durée entre deux valeurs du vecteur contenant les valeurs du signal. Dit autrement, le pas entre deux observations est *Te = 1/Fe*. La durée d'observation est à définir. \n",
    "Visualiser ces deux signaux."
   ]
  },
  {
   "cell_type": "code",
   "execution_count": 16,
   "metadata": {},
   "outputs": [
    {
     "data": {
      "application/vnd.jupyter.widget-view+json": {
       "model_id": "759d217a4a574007a3cdce7c8e333166",
       "version_major": 2,
       "version_minor": 0
      },
      "text/plain": [
       "Canvas(toolbar=Toolbar(toolitems=[('Home', 'Reset original view', 'home', 'home'), ('Back', 'Back to previous …"
      ]
     },
     "metadata": {},
     "output_type": "display_data"
    },
    {
     "data": {
      "application/vnd.jupyter.widget-view+json": {
       "model_id": "5339121190444368911f4e5388671900",
       "version_major": 2,
       "version_minor": 0
      },
      "text/plain": [
       "Canvas(toolbar=Toolbar(toolitems=[('Home', 'Reset original view', 'home', 'home'), ('Back', 'Back to previous …"
      ]
     },
     "metadata": {},
     "output_type": "display_data"
    },
    {
     "data": {
      "application/vnd.jupyter.widget-view+json": {
       "model_id": "9aa08f89ecb8469995dadf2ce7dcfd5a",
       "version_major": 2,
       "version_minor": 0
      },
      "text/plain": [
       "Canvas(toolbar=Toolbar(toolitems=[('Home', 'Reset original view', 'home', 'home'), ('Back', 'Back to previous …"
      ]
     },
     "metadata": {},
     "output_type": "display_data"
    },
    {
     "data": {
      "application/vnd.jupyter.widget-view+json": {
       "model_id": "ffb57beecf494603bf0a03fd43f0188c",
       "version_major": 2,
       "version_minor": 0
      },
      "text/plain": [
       "Canvas(toolbar=Toolbar(toolitems=[('Home', 'Reset original view', 'home', 'home'), ('Back', 'Back to previous …"
      ]
     },
     "metadata": {},
     "output_type": "display_data"
    },
    {
     "data": {
      "text/plain": [
       "<matplotlib.legend.Legend at 0x119708310>"
      ]
     },
     "execution_count": 16,
     "metadata": {},
     "output_type": "execute_result"
    }
   ],
   "source": [
    "Fe = 200\n",
    "Te = 1/Fe\n",
    "n1 = np.arange(0,0.2,Te)\n",
    "\n",
    "f1 = 20\n",
    "s1 = np.sin(2*np.pi*f1*n1)\n",
    "\n",
    "plt.figure()\n",
    "plt.plot(n1,s1,'r*-')\n",
    "plt.legend(['s1'])\n",
    "\n",
    "plt.figure()\n",
    "plt.stem(n1,s1,'r*-')\n",
    "plt.legend(['s1'])\n",
    "\n",
    "f2 = 80\n",
    "s2 = np.sin(2*np.pi*f2*n1)\n",
    "\n",
    "plt.figure()\n",
    "plt.plot(n1,s2,'r*-')\n",
    "plt.legend(['s2'])\n",
    "\n",
    "plt.figure()\n",
    "plt.stem(n1,s2,'r*-')\n",
    "plt.legend(['s2'])"
   ]
  },
  {
   "cell_type": "markdown",
   "metadata": {},
   "source": [
    "### Analyse temporelle (échantillonnage)"
   ]
  },
  {
   "cell_type": "markdown",
   "metadata": {},
   "source": [
    "**ACTION :** Conserver un échantillon sur deux pour les deux signaux, observer les deux nouveaux signaux (vous pouvez les superposer aux signaux précédents dans une autre couleur), conclure."
   ]
  },
  {
   "cell_type": "code",
   "execution_count": 22,
   "metadata": {},
   "outputs": [
    {
     "data": {
      "application/vnd.jupyter.widget-view+json": {
       "model_id": "f1268b58129c467e95b40483b9648348",
       "version_major": 2,
       "version_minor": 0
      },
      "text/plain": [
       "Canvas(toolbar=Toolbar(toolitems=[('Home', 'Reset original view', 'home', 'home'), ('Back', 'Back to previous …"
      ]
     },
     "metadata": {},
     "output_type": "display_data"
    },
    {
     "data": {
      "application/vnd.jupyter.widget-view+json": {
       "model_id": "1243f606c5e54d5b85fbd080214deb06",
       "version_major": 2,
       "version_minor": 0
      },
      "text/plain": [
       "Canvas(toolbar=Toolbar(toolitems=[('Home', 'Reset original view', 'home', 'home'), ('Back', 'Back to previous …"
      ]
     },
     "metadata": {},
     "output_type": "display_data"
    },
    {
     "data": {
      "application/vnd.jupyter.widget-view+json": {
       "model_id": "c51e9fb3e43e4cabbaa93eec16119d7d",
       "version_major": 2,
       "version_minor": 0
      },
      "text/plain": [
       "Canvas(toolbar=Toolbar(toolitems=[('Home', 'Reset original view', 'home', 'home'), ('Back', 'Back to previous …"
      ]
     },
     "metadata": {},
     "output_type": "display_data"
    },
    {
     "data": {
      "text/plain": [
       "Text(0.5, 1.0, 'sin à 20Hz et sin à 80Hz échantillonnés à 100Hz ')"
      ]
     },
     "execution_count": 22,
     "metadata": {},
     "output_type": "execute_result"
    }
   ],
   "source": [
    "Fe2 = Fe/2\n",
    "Te2 = 1/Fe2\n",
    "n2 = np.arange(0,0.2,Te2)\n",
    "\n",
    "f1 = 20\n",
    "s3 = np.sin(2*np.pi*f1*n2)\n",
    "\n",
    "plt.figure()\n",
    "plt.plot(n1,s1,'r*-')\n",
    "plt.plot(n2,s3,'g+-')\n",
    "plt.legend(['s1', 's3'])\n",
    "plt.title('sin à 20Hz échantillonné à 200Hz et 100Hz ')\n",
    "\n",
    "\n",
    "#plt.figure()\n",
    "#plt.stem(n1,s1,'r')\n",
    "#plt.stem(n2,s3,'g')\n",
    "#plt.legend(['s1', 's3'])\n",
    "\n",
    "f2 = 80\n",
    "s4 = np.sin(2*np.pi*f2*n2)\n",
    "\n",
    "plt.figure()\n",
    "plt.plot(n1,s2,'r*-')\n",
    "plt.plot(n2,s4,'g+-')\n",
    "plt.legend(['s2', 's4'])\n",
    "plt.title('sin à 80Hz échantillonné à 200Hz et 100Hz ')\n",
    "\n",
    "#plt.figure()\n",
    "#plt.stem(n1,s2,'r')\n",
    "#plt.stem(n2,s4,'g')\n",
    "#plt.legend(['s2', 's4'])\n",
    "\n",
    "plt.figure()\n",
    "plt.plot(n2,s3,'r*-')\n",
    "plt.plot(n2,s4,'g+-')\n",
    "plt.legend(['s3', 's4'])\n",
    "plt.title('sin à 20Hz et sin à 80Hz échantillonnés à 100Hz ')\n",
    "\n",
    "\n",
    "\n",
    "\n"
   ]
  },
  {
   "cell_type": "markdown",
   "metadata": {},
   "source": [
    "**REPONSE :** *s4* est devenu quasi identique à *s3* (à un déphasage prêt). Dans *s4* il y a trop peu d'échantillons pour représenter les oscillations présentent originalement dans *s2* (on verra dans le prochain TP que le Th. de Shannon n'est pas respecté pour obtenir *s4*). On peut dire aussi que le sous-échantillonnage a en quelque sorte \"lissé\" le signal *s2*.  "
   ]
  },
  {
   "cell_type": "markdown",
   "metadata": {},
   "source": [
    "**ACTION :** Charger les signaux stockés sous forme de vecteur dans les fichiers csv *signal_inconnu* et *signal_inconnu2* grâce à la fonction [*genfromtxt*](https://numpy.org/doc/stable/reference/generated/numpy.genfromtxt.html) de la bibliothèque numpy. Afficher-les. "
   ]
  },
  {
   "cell_type": "code",
   "execution_count": 23,
   "metadata": {},
   "outputs": [
    {
     "data": {
      "application/vnd.jupyter.widget-view+json": {
       "model_id": "f3d130143695468098aeecb639232902",
       "version_major": 2,
       "version_minor": 0
      },
      "text/plain": [
       "Canvas(toolbar=Toolbar(toolitems=[('Home', 'Reset original view', 'home', 'home'), ('Back', 'Back to previous …"
      ]
     },
     "metadata": {},
     "output_type": "display_data"
    },
    {
     "data": {
      "text/plain": [
       "Text(0.5, 1.0, 'signaux inconnus')"
      ]
     },
     "execution_count": 23,
     "metadata": {},
     "output_type": "execute_result"
    }
   ],
   "source": [
    "ss1 = np.genfromtxt('signal_inconnu1.csv',delimiter=',') #chargement du premier signal inconnu\n",
    "ss2 = np.genfromtxt('signal_inconnu2.csv',delimiter=',') #chargement du deuxième signal inconnu\n",
    "plt.figure()\n",
    "plt.plot(ss1,'*r-')\n",
    "plt.plot(ss2,'+g-')\n",
    "plt.legend(['ss1', 'ss2'])\n",
    "plt.title('signaux inconnus')\n"
   ]
  },
  {
   "cell_type": "markdown",
   "metadata": {},
   "source": [
    "**ACTION :** Conserver un seul échantillon sur deux des deux signaux précédents et les afficher à nouveau. Utiliser la fonction [*arange*](https://docs.scipy.org/doc/numpy/reference/generated/numpy.arange.html) pour ne conserver qu'un seul élément sur deux d'un tableau. "
   ]
  },
  {
   "cell_type": "code",
   "execution_count": 25,
   "metadata": {},
   "outputs": [
    {
     "data": {
      "application/vnd.jupyter.widget-view+json": {
       "model_id": "db71fa1b8b4d42ac8ebd0401c068130a",
       "version_major": 2,
       "version_minor": 0
      },
      "text/plain": [
       "Canvas(toolbar=Toolbar(toolitems=[('Home', 'Reset original view', 'home', 'home'), ('Back', 'Back to previous …"
      ]
     },
     "metadata": {},
     "output_type": "display_data"
    },
    {
     "data": {
      "text/plain": [
       "Text(0.5, 1.0, 'Fonctions inconnues sous-échantillonnées (facteur 2)')"
      ]
     },
     "execution_count": 25,
     "metadata": {},
     "output_type": "execute_result"
    }
   ],
   "source": [
    "n = np.arange(0,len(ss1),2)\n",
    "\n",
    "ss1_2 = np.take(ss1,n)\n",
    "\n",
    "plt.figure()\n",
    "plt.plot(ss1_2,'*r-')\n",
    "\n",
    "ss2_2 = np.take(ss2,n)\n",
    "plt.plot(ss2_2,'+g-')\n",
    "\n",
    "plt.legend(['ss1_2', 'ss2_2'])\n",
    "plt.title('Fonctions inconnues sous-échantillonnées (facteur 2)')"
   ]
  },
  {
   "cell_type": "markdown",
   "metadata": {},
   "source": [
    "**ACTION :** Interpréter les courbes obtenues. Que faut-il faire avant de sous-échantillonner ? "
   ]
  },
  {
   "cell_type": "markdown",
   "metadata": {},
   "source": [
    "**REPONSE :** *ss1_2* et *ss2_2* se \"ressemblent\" après sous-échantillonnage (d'un facteur 2). Exactement le sous-échantillonnage a peu modifié l'allure de *ss2*, mais surtout celle de *ss1* : *ss1_2* varie moins, le sous-échantillonage a donc agi comme un filtre lisseur. Cependant en pratique il faut mieux préalablement lisser un signal avant de le sous-échantillonner, afin d'éviter de prélever (au hasard) des échantillons possiblement bruités.    \n",
    "(les aspects de l'analyse spectrale seront abordés dans le prochain TP). "
   ]
  },
  {
   "cell_type": "markdown",
   "metadata": {},
   "source": [
    "**ACTION :** Charger le signal stocké dans le fichier *signal_inconnu3.csv*. Celui-ci contient les échantillons d’un signal bruité. On propose de filtrer ce signal avec une fenêtre ou moyenne glissante de grande taille, écrire la fonction de filtrage correspondante. Visualiser le résultat et jouer sur la taille de la fenêtre. "
   ]
  },
  {
   "cell_type": "code",
   "execution_count": 33,
   "metadata": {
    "scrolled": true
   },
   "outputs": [
    {
     "data": {
      "application/vnd.jupyter.widget-view+json": {
       "model_id": "d658b8271b5540f6b3b19bb840b142b0",
       "version_major": 2,
       "version_minor": 0
      },
      "text/plain": [
       "Canvas(toolbar=Toolbar(toolitems=[('Home', 'Reset original view', 'home', 'home'), ('Back', 'Back to previous …"
      ]
     },
     "metadata": {},
     "output_type": "display_data"
    },
    {
     "data": {
      "application/vnd.jupyter.widget-view+json": {
       "model_id": "eb8d847386c648e2bb48a1f16962bb80",
       "version_major": 2,
       "version_minor": 0
      },
      "text/plain": [
       "Canvas(toolbar=Toolbar(toolitems=[('Home', 'Reset original view', 'home', 'home'), ('Back', 'Back to previous …"
      ]
     },
     "metadata": {},
     "output_type": "display_data"
    },
    {
     "data": {
      "application/vnd.jupyter.widget-view+json": {
       "model_id": "3d845ccfeb144b51b76c761802d39ec8",
       "version_major": 2,
       "version_minor": 0
      },
      "text/plain": [
       "Canvas(toolbar=Toolbar(toolitems=[('Home', 'Reset original view', 'home', 'home'), ('Back', 'Back to previous …"
      ]
     },
     "metadata": {},
     "output_type": "display_data"
    },
    {
     "data": {
      "text/plain": [
       "<matplotlib.legend.Legend at 0x11a54ac40>"
      ]
     },
     "execution_count": 33,
     "metadata": {},
     "output_type": "execute_result"
    }
   ],
   "source": [
    "ss5 = np.genfromtxt('signal_inconnu3.csv',delimiter=',')\n",
    "plt.figure()\n",
    "plt.plot(ss5,'r*-')\n",
    "plt.legend(['ss5'])\n",
    "plt.title('Signal inconnu')\n",
    "\n",
    "taille_filtre = 101 #plutot prendre une valeur impaire\n",
    "h = np.ones(taille_filtre)  / taille_filtre\n",
    "plt.figure()\n",
    "plt.stem(h)\n",
    "plt.legend(['h'])\n",
    "plt.title('Réponse impulsionnelle du filtre')\n",
    "\n",
    "\n",
    "ss6 = np.convolve(ss5, h)\n",
    "\n",
    "#taille(ss6) = taille(ss5)+ taille(h) + 1\n",
    "#ici on choisit de couper ss6 de façon à le superposer à ss5\n",
    "#ss7 = ss6( (taille_filtre+1)/2 : size(f,2) +1 - ((taille_filtre+1)/2) );\n",
    " \n",
    "plt.figure()\n",
    "plt.plot(ss6,'g*-');\n",
    "plt.legend(['ss6'])\n"
   ]
  },
  {
   "cell_type": "markdown",
   "metadata": {},
   "source": [
    "**Action :** Afficher la taille de *ss5*, *h* et *ss6* (signal filtré). Etablir le lien entre ses tailles. Afficher *ss6* en le superposant à *ss5*. "
   ]
  },
  {
   "cell_type": "markdown",
   "metadata": {},
   "source": [
    "**Réponse :** Le signal *ss6* est plus large que celui *ss5* du fait de l'entrée/sortie du filtre *h* lors de la convolution. C'est l'effet de bord du filtre. Si le filtre *h* est de taille impaire et centrée, on considère que pendant la convolution, lors du glissement du filtre *h* sur *ss5*, une demi partie du filtre *h* va entrer dans *ss5*, et une demi partie du filtre *h* va en sortir. En dehors du signal *ss5*, les échantillons supplémentaires de signal, nécessaires pour la convolution avec *h*, sont considérés égaux à 0."
   ]
  },
  {
   "cell_type": "code",
   "execution_count": 43,
   "metadata": {},
   "outputs": [
    {
     "name": "stdout",
     "output_type": "stream",
     "text": [
      "2001 101 2101 2101\n",
      "2001\n"
     ]
    },
    {
     "data": {
      "application/vnd.jupyter.widget-view+json": {
       "model_id": "e63ecbdbae6a49d79f8f23a33aa220a5",
       "version_major": 2,
       "version_minor": 0
      },
      "text/plain": [
       "Canvas(toolbar=Toolbar(toolitems=[('Home', 'Reset original view', 'home', 'home'), ('Back', 'Back to previous …"
      ]
     },
     "metadata": {},
     "output_type": "display_data"
    },
    {
     "data": {
      "text/plain": [
       "<matplotlib.legend.Legend at 0x11ae0ea60>"
      ]
     },
     "execution_count": 43,
     "metadata": {},
     "output_type": "execute_result"
    }
   ],
   "source": [
    "taille_ss5 = np.size(ss5)\n",
    "taille_h = np.size(h) \n",
    "taille_ss6 = np.size(ss6)\n",
    "\n",
    "taille_ss6b = np.size(ss5)+ np.size(h) - 1\n",
    "\n",
    "print(taille_ss5, taille_h, taille_ss6, taille_ss6b)\n",
    "\n",
    "# On obtient ss7 en coupant ss6 de façon à le superposer à ss5\n",
    "# On coupe ss6 au début et à la fin, en lui ôtant à chaque fois \n",
    "# une nombre d'échantillons égal à une demi-taille du filtre\n",
    "\n",
    "n = range( int((taille_h+1)/2)-1, taille_ss6 - int((taille_h+1)/2) + 1)\n",
    "\n",
    "ss7 = np.take(ss6, n)\n",
    "\n",
    "taille_ss7 = np.size(ss7)\n",
    "print(taille_ss7)\n",
    "    \n",
    "plt.figure()\n",
    "plt.plot(ss5, 'r*-');\n",
    "plt.plot(ss7, 'g*-');\n",
    "plt.legend(['ss5','ss7'])\n"
   ]
  }
 ],
 "metadata": {
  "kernelspec": {
   "display_name": "Python 3",
   "language": "python",
   "name": "python3"
  },
  "language_info": {
   "codemirror_mode": {
    "name": "ipython",
    "version": 3
   },
   "file_extension": ".py",
   "mimetype": "text/x-python",
   "name": "python",
   "nbconvert_exporter": "python",
   "pygments_lexer": "ipython3",
   "version": "3.8.5"
  }
 },
 "nbformat": 4,
 "nbformat_minor": 4
}
