{
 "cells": [
  {
   "cell_type": "markdown",
   "metadata": {},
   "source": [
    "## TP1 Traitement du signal - Prise en main de Python pour faire du traitement du signal"
   ]
  },
  {
   "cell_type": "markdown",
   "metadata": {},
   "source": [
    "## Notebook Jupyter et Python"
   ]
  },
  {
   "cell_type": "markdown",
   "metadata": {},
   "source": [
    "## Quelques rappels de Python utiles pour faire du traitement du signal"
   ]
  },
  {
   "cell_type": "markdown",
   "metadata": {},
   "source": [
    "### La bibliothèque numpy"
   ]
  },
  {
   "cell_type": "markdown",
   "metadata": {},
   "source": [
    "La bibliothèqe [numpy](https://numpy.org/) permet de manipuler des matrices et des tableaux à n dimensions dans Python. Elle est particulièrement utilisée pour du calcul scientifique et en traitement du signal et des images. \n",
    "\n",
    "Les vecteurs et matrices sont des [numpy.array](https://numpy.org/doc/stable/reference/generated/numpy.array.html) de 1 et 2 dimensions. \n",
    "\n",
    "Quelques exemples d'opérations de base entre vecteurs et matrices sont présentées ci-dessous. "
   ]
  },
  {
   "cell_type": "code",
   "execution_count": 1,
   "metadata": {},
   "outputs": [
    {
     "name": "stdout",
     "output_type": "stream",
     "text": [
      "[1 2 3 4]\n",
      "[2 3]\n",
      "\n",
      "[[1 2]\n",
      " [3 4]]\n",
      "7\n",
      "\n",
      "[[ 5  7]\n",
      " [ 9 11]]\n",
      "\n",
      "[[3 3]\n",
      " [3 3]]\n",
      "\n",
      "[[ 4 10]\n",
      " [18 28]]\n",
      "\n",
      "[[4.   2.5 ]\n",
      " [2.   1.75]]\n",
      "\n",
      "[[16 19]\n",
      " [36 43]]\n",
      "\n"
     ]
    }
   ],
   "source": [
    "import numpy as np\n",
    "\n",
    "vect1 = np.array([1,2,3,4])\n",
    "print(vect1)\n",
    "print(vect1[1:3]) #vect[i:j] permet d'accéder à l'ensemble des éléments de rang i (inclus) à j (non inclus)\n",
    "print()\n",
    "\n",
    "mat1 = np.array([[1,2],[3,4]])\n",
    "print(mat1)\n",
    "mat2 = np.array([[4,5],[6,7]])\n",
    "print(mat2[1,1]) #affichage de l'élément (1,1) soit l'élément appartenant à la deuxième ligne et la deuxième colonne\n",
    "print()\n",
    "\n",
    "mat3 = mat1 + mat2\n",
    "print(mat3)\n",
    "print()\n",
    "\n",
    "mat3 = mat2-mat1\n",
    "print(mat3)\n",
    "print()\n",
    "\n",
    "mat3 = mat1*mat2 #multiplication des éléments des deux matrices terme à terme\n",
    "print(mat3)\n",
    "print()\n",
    "\n",
    "mat3 = mat2/mat1 #division des éléments des deux matrices terme à terme\n",
    "print(mat3)\n",
    "print()\n",
    "\n",
    "mat3 = np.dot(mat1,mat2) #produit matriciel\n",
    "print(mat3)\n",
    "print()"
   ]
  },
  {
   "cell_type": "markdown",
   "metadata": {},
   "source": [
    "**ACTION :** Créer une matrice A de taille 4x4 (avec numpy) que vous peuplez aléatoirement. Accéder et afficher : \n",
    "- la première ligne de A \n",
    "- la quatrième colonne de A \n",
    "- les trois premiers éléments de la quatrième ligne de A "
   ]
  },
  {
   "cell_type": "code",
   "execution_count": 2,
   "metadata": {},
   "outputs": [
    {
     "name": "stdout",
     "output_type": "stream",
     "text": [
      "[[0.02627366 0.40286532 0.32917473 0.7861033 ]\n",
      " [0.83129869 0.78461826 0.99052363 0.94554555]\n",
      " [0.96245586 0.66973635 0.37606776 0.78936894]\n",
      " [0.72162233 0.05480191 0.32882645 0.35951788]]\n",
      "\n",
      "[0.7861033  0.94554555 0.78936894 0.35951788]\n",
      "\n",
      "[0.72162233 0.05480191 0.32882645]\n",
      "\n"
     ]
    }
   ],
   "source": [
    "import numpy as np\n",
    "\n",
    "A = np.random.rand(4,4) # matrice 4x4 aléatoire (loi uniforme)\n",
    "print(A)\n",
    "print()\n",
    "\n",
    "\n",
    "# Rq1. : 1er index matrice : (0,0)\n",
    "# Rq2. : (a,b) avec a indice des lignes, b indice des colonnes   \n",
    "print( (A[:,3]) ) # 4e colonne de A\n",
    "print()\n",
    "\n",
    "print( (A[3, [i for i in range(0,3)] ]) ) # 3 premiers éléments de la 4e ligne de A\n",
    "print()\n",
    "\n",
    "\n"
   ]
  },
  {
   "cell_type": "markdown",
   "metadata": {},
   "source": [
    "### La bibliothèque matplotlib"
   ]
  },
  {
   "cell_type": "markdown",
   "metadata": {},
   "source": [
    "La bibliothèque [matplotlib](https://matplotlib.org/) permet de visualiser des données sous forme de graphique. Elle nous sera utile pour afficher les signaux 1D et les signaux 2D (sous forme d'image). "
   ]
  },
  {
   "cell_type": "markdown",
   "metadata": {},
   "source": [
    "**ACTION  :** L’affichage d’un vecteur se fait par l’intermédiaire de la fonction [plot](https://matplotlib.org/3.1.1/api/_as_gen/matplotlib.pyplot.plot.html) très utile pour obtenir des courbes de différentes fonctions planes. La commande matplotwidget permet de manipuler les figures dans le notebook. \n",
    "Tester le code dans les cellules ci-dessous. "
   ]
  },
  {
   "cell_type": "code",
   "execution_count": 3,
   "metadata": {},
   "outputs": [
    {
     "data": {
      "application/vnd.jupyter.widget-view+json": {
       "model_id": "aed9a105f6b44af9bfb316fbcf1a6b42",
       "version_major": 2,
       "version_minor": 0
      },
      "text/plain": [
       "Canvas(toolbar=Toolbar(toolitems=[('Home', 'Reset original view', 'home', 'home'), ('Back', 'Back to previous …"
      ]
     },
     "metadata": {},
     "output_type": "display_data"
    },
    {
     "data": {
      "application/vnd.jupyter.widget-view+json": {
       "model_id": "a1ef1a04050b49f98c2be10db94a0a5a",
       "version_major": 2,
       "version_minor": 0
      },
      "text/plain": [
       "Canvas(toolbar=Toolbar(toolitems=[('Home', 'Reset original view', 'home', 'home'), ('Back', 'Back to previous …"
      ]
     },
     "metadata": {},
     "output_type": "display_data"
    },
    {
     "data": {
      "application/vnd.jupyter.widget-view+json": {
       "model_id": "da2ec2890f1f43b8a66cc92aae401a38",
       "version_major": 2,
       "version_minor": 0
      },
      "text/plain": [
       "Canvas(toolbar=Toolbar(toolitems=[('Home', 'Reset original view', 'home', 'home'), ('Back', 'Back to previous …"
      ]
     },
     "metadata": {},
     "output_type": "display_data"
    },
    {
     "data": {
      "application/vnd.jupyter.widget-view+json": {
       "model_id": "e48476a1c48f4fa486935767678c0053",
       "version_major": 2,
       "version_minor": 0
      },
      "text/plain": [
       "Canvas(toolbar=Toolbar(toolitems=[('Home', 'Reset original view', 'home', 'home'), ('Back', 'Back to previous …"
      ]
     },
     "metadata": {},
     "output_type": "display_data"
    },
    {
     "data": {
      "text/plain": [
       "<matplotlib.legend.Legend at 0x11d384ed0>"
      ]
     },
     "execution_count": 3,
     "metadata": {},
     "output_type": "execute_result"
    }
   ],
   "source": [
    "%matplotlib widget \n",
    "\n",
    "import matplotlib.pyplot as plt\n",
    "import math\n",
    "\n",
    "x = np.array([i for i in range(0,10,3)]) #création d'un vecteur qui contient des éléments de 0 à 10 (non inclus) avec un pas de 3\n",
    "plt.plot(x) #affichage par défaut du vecteur\n",
    "\n",
    "plt.figure() #création d'une nouvelle figure\n",
    "plt.plot(x,'r*') #affichage du vecteur en rouge avec des marqueurs \"étoiles\"\n",
    "\n",
    "y = np.random.rand(4) #création d'un vecteur de taille 4 avec des éléments aléatoires compris entre 0 et 1. \n",
    "\n",
    "plt.figure()\n",
    "plt.plot(y,'+-') #affichage du vecteur y avec la couleur par défaut, des marqueurs '+'. Les points sont reliés. \n",
    "plt.plot(x,y,'g*-') #affichage de la fonction y = f(x) en vert. Les points sont des marqueurs '*' et ils sont reliés. \n",
    "#si on ne crée pas une nouvelle figure avant de dessiner (plot), la courbe est dessinée dans la figure précédente (en superposition)\n",
    "\n",
    "plt.figure()\n",
    "z = np.linspace(-math.pi, math.pi, 10)  #on définit un vecteur entre -pi et pi avec 10 éléments\n",
    "plt.plot(z, np.sin(z), 'r*-') #on calcule la fonction sinus sur ce vecteur\n",
    "plt.title(\"Fct sinus\") #on ajoute un titre à la figure\n",
    "plt.legend([\"Sinus\"]) #on ajoute une légende\n"
   ]
  },
  {
   "cell_type": "markdown",
   "metadata": {},
   "source": [
    "**ACTION :** L’affichage d’une matrice correspond lui à celui d’une image. Chaque élément (m, n) de la matrice est considéré comme étant la valeur du pixel (m, n) auquel il est associé. Vérifier ceci en entrant les commandes suivantes."
   ]
  },
  {
   "cell_type": "code",
   "execution_count": 4,
   "metadata": {},
   "outputs": [
    {
     "name": "stdout",
     "output_type": "stream",
     "text": [
      "21919.02121869444 1.036425468534505\n",
      "\n"
     ]
    },
    {
     "data": {
      "application/vnd.jupyter.widget-view+json": {
       "model_id": "b468b0f4286842328eec5981314c1f71",
       "version_major": 2,
       "version_minor": 0
      },
      "text/plain": [
       "Canvas(toolbar=Toolbar(toolitems=[('Home', 'Reset original view', 'home', 'home'), ('Back', 'Back to previous …"
      ]
     },
     "metadata": {},
     "output_type": "display_data"
    },
    {
     "data": {
      "text/plain": [
       "<matplotlib.colorbar.Colorbar at 0x11d427c10>"
      ]
     },
     "execution_count": 4,
     "metadata": {},
     "output_type": "execute_result"
    }
   ],
   "source": [
    "a = np.random.rand(10,10)*10 #matrice 10x10 avec des éléments de 0 à 10\n",
    "a = np.exp(a) #pour obtenir de plus grands écarts entre les éléments de la matrice a\n",
    "\n",
    "print(np.max(a), np.min(a)) #afficher la valeur max et min de la matrice\n",
    "print()\n",
    "\n",
    "plt.figure() #nouvelle figure\n",
    "plt.imshow(a) #afficher l'image correspondant à la matrice a\n",
    "plt.colorbar()"
   ]
  },
  {
   "cell_type": "markdown",
   "metadata": {},
   "source": [
    "Par défaut, imshow utilse la colormap 'viridis' si la matrice est 2D. On associe généralement ce type de matrice à une image en niveau de gris. Il faut donc spécifier la colormap."
   ]
  },
  {
   "cell_type": "code",
   "execution_count": 5,
   "metadata": {
    "scrolled": true
   },
   "outputs": [
    {
     "data": {
      "application/vnd.jupyter.widget-view+json": {
       "model_id": "7a1cf26abb34479b85dcbf58034b72ac",
       "version_major": 2,
       "version_minor": 0
      },
      "text/plain": [
       "Canvas(toolbar=Toolbar(toolitems=[('Home', 'Reset original view', 'home', 'home'), ('Back', 'Back to previous …"
      ]
     },
     "metadata": {},
     "output_type": "display_data"
    },
    {
     "data": {
      "text/plain": [
       "<matplotlib.colorbar.Colorbar at 0x11d4b87d0>"
      ]
     },
     "execution_count": 5,
     "metadata": {},
     "output_type": "execute_result"
    }
   ],
   "source": [
    "grey_map=plt.cm.gray #définition de la color map en niveau de gris (existe déjà dan sla bibliothèque)\n",
    "plt.figure()\n",
    "plt.imshow(a, grey_map) #affichage avec cette color map\n",
    "plt.colorbar()"
   ]
  },
  {
   "cell_type": "markdown",
   "metadata": {},
   "source": [
    "## Premiers pas en traitement du signal avec Python"
   ]
  },
  {
   "cell_type": "markdown",
   "metadata": {},
   "source": [
    "### Premier signal"
   ]
  },
  {
   "cell_type": "markdown",
   "metadata": {},
   "source": [
    "Un signal 1D peut être vu comme un vecteur où la durée d'observation est la taille du vecteur (nombre d'éléments)."
   ]
  },
  {
   "cell_type": "markdown",
   "metadata": {},
   "source": [
    "**ACTION :** Ecrire une fonction my_impulse qui renvoie un signal impulsion avec 2 arguments en entrée, un pour définir la durée d’observation du signal, un autre pour la position de l’impulsion. Tester la fonction en affichant le résultat avec la fonction plot."
   ]
  },
  {
   "cell_type": "code",
   "execution_count": 6,
   "metadata": {},
   "outputs": [],
   "source": [
    "#TODO"
   ]
  },
  {
   "cell_type": "markdown",
   "metadata": {},
   "source": [
    "### Signaux sinusoïdaux"
   ]
  },
  {
   "cell_type": "markdown",
   "metadata": {},
   "source": [
    "**ACTION :** Créer deux signaux sinusoïdaux de fréquence 20 Hz et 80 Hz respectivement échantillonnés à 200 Hz. L'échantillonnage est vu ici comme la durée entre deux valeurs du vecteur contenant les valeurs du signal. Dit autrement, le pas entre deux observations est 1/Fe. La durée d'observation est à définir. \n",
    "Visualiser ces deux signaux."
   ]
  },
  {
   "cell_type": "code",
   "execution_count": 7,
   "metadata": {},
   "outputs": [],
   "source": [
    "#TODO"
   ]
  },
  {
   "cell_type": "markdown",
   "metadata": {},
   "source": [
    "### Analyse temporelle (échantillonnage)"
   ]
  },
  {
   "cell_type": "markdown",
   "metadata": {},
   "source": [
    "**ACTION :** Conserver un échantillon sur deux pour les deux signaux, observer les deux nouveaux signaux (vous pouvez les superposer aux signaux précédents dans une autre couleur), conclure."
   ]
  },
  {
   "cell_type": "code",
   "execution_count": 8,
   "metadata": {},
   "outputs": [],
   "source": [
    "#TODO"
   ]
  },
  {
   "cell_type": "markdown",
   "metadata": {},
   "source": [
    "**REPONSE :** TODO"
   ]
  },
  {
   "cell_type": "markdown",
   "metadata": {},
   "source": [
    "**ACTION :** Charger les signaux stockés sous forme de vecteur dans les fichiers csv signal_inconnu et signal_inconnu2 grâce à la fonction [genfromtxt](https://numpy.org/doc/stable/reference/generated/numpy.genfromtxt.html) de la bibliothèque numpy. Afficher-les. "
   ]
  },
  {
   "cell_type": "code",
   "execution_count": 9,
   "metadata": {},
   "outputs": [],
   "source": [
    "#TODO"
   ]
  },
  {
   "cell_type": "markdown",
   "metadata": {},
   "source": [
    "**ACTION :** Conserver un seul échantillon sur deux des deux signaux précédents et les afficher à nouveau. Utiliser la fonction [arange](https://docs.scipy.org/doc/numpy/reference/generated/numpy.arange.html) pour ne conserver qu'un seul élément sur deux d'un tableau. "
   ]
  },
  {
   "cell_type": "code",
   "execution_count": 10,
   "metadata": {},
   "outputs": [],
   "source": [
    "#TODO"
   ]
  },
  {
   "cell_type": "markdown",
   "metadata": {},
   "source": [
    "**ACTION :** Interpréter les courbes obtenues. Que faut-il faire avant de sous-échantillonner ? "
   ]
  },
  {
   "cell_type": "markdown",
   "metadata": {},
   "source": [
    "**REPONSE :** TODO "
   ]
  },
  {
   "cell_type": "markdown",
   "metadata": {},
   "source": [
    "**ACTION :** Charger le signal stocké dans le fichier signal_inconnu3.csv. Celui-ci contient les échantillons d’un signal bruité. On propose de filtrer ce signal avec une fenêtre ou moyenne glissante de grande taille, écrire la fonction de filtrage correspondante. Visualiser le résultat et jouer sur la taille de la fenêtre. "
   ]
  },
  {
   "cell_type": "code",
   "execution_count": 11,
   "metadata": {
    "scrolled": true
   },
   "outputs": [],
   "source": [
    "#TODO"
   ]
  },
  {
   "cell_type": "markdown",
   "metadata": {},
   "source": [
    "**Action :** Afficher la taille de ss5, h et ss6 (signal filtré). Etablir le lien entre ses tailles. Afficher ss6 en le superposant à ss5. "
   ]
  },
  {
   "cell_type": "markdown",
   "metadata": {},
   "source": [
    "**Réponse :** TODO"
   ]
  },
  {
   "cell_type": "code",
   "execution_count": 12,
   "metadata": {},
   "outputs": [],
   "source": [
    "#TODO\n",
    "\n"
   ]
  }
 ],
 "metadata": {
  "kernelspec": {
   "display_name": "Python 3",
   "language": "python",
   "name": "python3"
  },
  "language_info": {
   "codemirror_mode": {
    "name": "ipython",
    "version": 3
   },
   "file_extension": ".py",
   "mimetype": "text/x-python",
   "name": "python",
   "nbconvert_exporter": "python",
   "pygments_lexer": "ipython3",
   "version": "3.6.9"
  }
 },
 "nbformat": 4,
 "nbformat_minor": 4
}
