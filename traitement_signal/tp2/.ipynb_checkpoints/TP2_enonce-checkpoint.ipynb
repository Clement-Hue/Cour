{
 "cells": [
  {
   "cell_type": "markdown",
   "metadata": {},
   "source": [
    "# TP2 Traitement du signal : Analyse spectrale"
   ]
  },
  {
   "cell_type": "markdown",
   "metadata": {},
   "source": [
    "Pour réaliser une analyse spectrale avec Python, nous allons utiliser la fonction **fft** de numpy dont nous vous invitons dans un premier temps à regarder la documentation : https://numpy.org/doc/stable/reference/routines.fft.html"
   ]
  },
  {
   "cell_type": "markdown",
   "metadata": {},
   "source": [
    "Dans la suite de ce TP, nous considérons que la durée entre deux échantillons $\\Delta t = 1 ms$"
   ]
  },
  {
   "cell_type": "markdown",
   "metadata": {},
   "source": [
    "**ACTION :** Créer un signal sinusoïdal $f=50 Hz$ observé sur $T=60 ms$ ($t=0: ∆t:T- ∆t$), d’amplitude 1 et de composante continue nulle.\n",
    "Afficher le module du spectre de ce signal (veiller à bien graduer les échelles des fréquences et des amplitudes)."
   ]
  },
  {
   "cell_type": "code",
   "execution_count": 1,
   "metadata": {},
   "outputs": [],
   "source": [
    "#TODO"
   ]
  },
  {
   "cell_type": "markdown",
   "metadata": {},
   "source": [
    "Quand les domaines temporel et fréquentiel sont discrétisés avec le même nombre de\n",
    "points N, on peut noter les points suivants :\n",
    "- **l’espace du temps** est caractérisé par la durée de l’enregistrement $T$ et par l’incrément\n",
    "temporel $∆t$ (qui n’est autre que la période d’échantillonnage $T_{e}$) tel que $∆t=T_{e}=T/N$\n",
    "- **l’espace des fréquences** est caractérisé par l’incrément fréquentiel $∆f$ et la fréquence\n",
    "maximum $f_{max}$ qui n’est autre que la fréquence d’échantillonnage $f_{e}$.\n",
    "$∆f =f_{max}/N=f_{e}/N$\n",
    "\n",
    "Ces deux relations ayant en commun la période d’échantillonnage $T_{e}$ et son inverse, la\n",
    "fréquence d’échantillonnage, on en déduit les trois relations fondamentales liant les domaines temporel et fréquentiel.\n",
    "$∆f =1/T$\n",
    "$∆t=T_{e}$\n",
    "$∆t.∆f =1/N$\n",
    "\n",
    "Pour l’analyse spectrale, il convient de retenir les propriétés suivantes : \n",
    "1. L’incrément fréquentiel $∆f$ est l’inverse de la durée temporelle $T$. \n",
    "2. La période spectrale $f_{max} = f_{e}$ est l’inverse de l’incrément temporel $∆t$.\n",
    "3. Le domaine d’analyse spectrale est limité par la fréquence de Nyquist $f_{max} <(f_{e}/2)$.\n",
    "4. Pour un nombre donné de points $N$, il n’est pas possible d’avoir simultanément une très bonne définition temporelle ($∆t$ petit) et une très bonne définition fréquentielle ($∆f$ petit).\n",
    "\n",
    "Une illustration des relations existantes entre les domaines temporel et fréquentiel est donnée sur la figure suivante.\n",
    "\n",
    "![title](image1.png)"
   ]
  },
  {
   "cell_type": "markdown",
   "metadata": {},
   "source": [
    "**ACTION :** Reprendre la question précédente avec une durée d’observation de 61 ms, puis 70 ms. Expliquer.\n"
   ]
  },
  {
   "cell_type": "code",
   "execution_count": 2,
   "metadata": {},
   "outputs": [],
   "source": [
    "#TODO"
   ]
  },
  {
   "cell_type": "code",
   "execution_count": 3,
   "metadata": {},
   "outputs": [],
   "source": [
    "#TODO"
   ]
  },
  {
   "cell_type": "markdown",
   "metadata": {},
   "source": [
    "**Réponse :** "
   ]
  },
  {
   "cell_type": "markdown",
   "metadata": {},
   "source": [
    "**ACTION :** Avec la fonction fft il est possible de faire du zero padding en ajoutant des zéros à la fin du vecteur signal (voir le paramètre $n$ de la fonction dans la doc). Refaire l’analyse précédente en complétant jusqu’à 210 ms. Conclure."
   ]
  },
  {
   "cell_type": "code",
   "execution_count": 4,
   "metadata": {},
   "outputs": [],
   "source": [
    "#TODO"
   ]
  },
  {
   "cell_type": "markdown",
   "metadata": {},
   "source": [
    "**Réponse :** "
   ]
  },
  {
   "cell_type": "markdown",
   "metadata": {},
   "source": [
    "**ACTION :** Refaire l’analyse du signal à 50 Hz mais observé sur 210 ms. Comparer avec l’analyse précédente\n"
   ]
  },
  {
   "cell_type": "code",
   "execution_count": 5,
   "metadata": {},
   "outputs": [],
   "source": [
    "#TODO\n"
   ]
  },
  {
   "cell_type": "markdown",
   "metadata": {},
   "source": [
    "**Réponse :** "
   ]
  },
  {
   "cell_type": "markdown",
   "metadata": {},
   "source": [
    "**ACTION :** Ouvrir le signal inconnu 4. Faire l’analyse spectrale de ce signal (fréquences, amplitudes). Reprendre votre analyse en appliquant une Fenêtre de Hamming (voir la fonction hamming de numpy)."
   ]
  },
  {
   "cell_type": "code",
   "execution_count": 6,
   "metadata": {},
   "outputs": [],
   "source": [
    "#TODO"
   ]
  },
  {
   "cell_type": "markdown",
   "metadata": {},
   "source": [
    "**Réponse :** "
   ]
  },
  {
   "cell_type": "code",
   "execution_count": 7,
   "metadata": {},
   "outputs": [],
   "source": [
    "#TODO\n",
    "\n"
   ]
  },
  {
   "cell_type": "markdown",
   "metadata": {},
   "source": [
    "**Réponse :** "
   ]
  },
  {
   "cell_type": "markdown",
   "metadata": {},
   "source": [
    "**ACTION :** Reprendre l’étude avec le signal inconnu 5."
   ]
  },
  {
   "cell_type": "code",
   "execution_count": 8,
   "metadata": {},
   "outputs": [],
   "source": [
    "#TODO\n",
    "\n"
   ]
  },
  {
   "cell_type": "markdown",
   "metadata": {},
   "source": [
    "## Analyse à court terme"
   ]
  },
  {
   "cell_type": "markdown",
   "metadata": {},
   "source": [
    "Comme l’analyse en fréquence est une opération qui effectue une moyenne sur tout l’axe du temps, certains aspects temporels peuvent être complètement cachés. Il peut alors être intéressant de découper le signal en tranches, pour faire apparaître l’ordonnancement de portions du signal. On parle alors de transformée de Fourier à court-terme (STFT : short-term Fourier Transform).\n",
    "On constate cependant toujours que le découpage en tranches plus petites augmente la résolution temporelle, mais diminue la résolution fréquentielle."
   ]
  },
  {
   "cell_type": "markdown",
   "metadata": {},
   "source": [
    "**ACTION :** Construire un signal tel que $f=50 Hz$ pendant 200 ms, puis $f=100 Hz$ les 200 ms suivantes. Afficher le module de sa transformée de Fourier, conclusion.\n",
    "Reprendre l’analyse en découpant le signal en 3 et 6 tranches pour le calcul de la FFT (un calcul de FFT par tranche). Afficher l’ensemble de ces analyses sur un graphe 3D, conclusion."
   ]
  },
  {
   "cell_type": "code",
   "execution_count": 9,
   "metadata": {},
   "outputs": [],
   "source": [
    "#TODO\n"
   ]
  },
  {
   "cell_type": "markdown",
   "metadata": {},
   "source": [
    "**Réponse :**"
   ]
  }
 ],
 "metadata": {
  "kernelspec": {
   "display_name": "Python 3",
   "language": "python",
   "name": "python3"
  },
  "language_info": {
   "codemirror_mode": {
    "name": "ipython",
    "version": 3
   },
   "file_extension": ".py",
   "mimetype": "text/x-python",
   "name": "python",
   "nbconvert_exporter": "python",
   "pygments_lexer": "ipython3",
   "version": "3.6.9"
  }
 },
 "nbformat": 4,
 "nbformat_minor": 2
}
