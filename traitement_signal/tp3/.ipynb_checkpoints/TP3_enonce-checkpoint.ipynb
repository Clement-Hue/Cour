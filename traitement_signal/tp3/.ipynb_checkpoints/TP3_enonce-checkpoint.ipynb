{
 "cells": [
  {
   "cell_type": "markdown",
   "metadata": {},
   "source": [
    "# TP 3 - Transformée de Fourier rapide (FFT) 2D et filtrage linéaire"
   ]
  },
  {
   "cell_type": "markdown",
   "metadata": {},
   "source": [
    "## Transformée de Fourier Discrète sur des images"
   ]
  },
  {
   "cell_type": "markdown",
   "metadata": {},
   "source": [
    "Dans cette première partie, vous allez observer concrètement, sur divers exemples d’images, la représentation des spectres en fréquences spatiales."
   ]
  },
  {
   "cell_type": "code",
   "execution_count": 171,
   "metadata": {},
   "outputs": [],
   "source": [
    "\"\"\" définition d'une fonction permettant de générer une sinusoide 2D\"\"\"\n",
    "\n",
    "import numpy as np\n",
    "%matplotlib widget \n",
    "import matplotlib.pyplot as plt\n",
    "\n",
    "def generation_sinus(taille, periode, orientation, amplitude, val_moy) :\n",
    "    #taille : taille de l'image à générer\n",
    "    #periode : période en pixels\n",
    "    #orientation : orientation en radian\n",
    "    #amplitude : amplitude du sinus\n",
    "    #val_moy : valeur moyenne\n",
    "\n",
    "    #décalage pour fixer le point de rotation (zéro) au centre de l'image\n",
    "    offset0 = int(taille/2) + 1\n",
    "\n",
    "    f = range(-offset0, offset0)\n",
    "    [Fl,Fc] = np.meshgrid(f,f)\n",
    "\n",
    "    image = val_moy + amplitude*np.sin(2*np.pi*(1/periode)*(Fl*np.cos(orientation)+Fc*np.sin(orientation)))\n",
    "    image = np.floor(image)\n",
    "    \n",
    "    return image"
   ]
  },
  {
   "cell_type": "markdown",
   "metadata": {},
   "source": [
    "**ACTION :** Exécuter le script suivant et analyser ce que vous obtenez. "
   ]
  },
  {
   "cell_type": "code",
   "execution_count": 173,
   "metadata": {
    "scrolled": true
   },
   "outputs": [
    {
     "data": {
      "application/vnd.jupyter.widget-view+json": {
       "model_id": "",
       "version_major": 2,
       "version_minor": 0
      },
      "text/plain": [
       "Canvas(toolbar=Toolbar(toolitems=[('Home', 'Reset original view', 'home', 'home'), ('Back', 'Back to previous …"
      ]
     },
     "metadata": {},
     "output_type": "display_data"
    },
    {
     "data": {
      "application/vnd.jupyter.widget-view+json": {
       "model_id": "",
       "version_major": 2,
       "version_minor": 0
      },
      "text/plain": [
       "Canvas(toolbar=Toolbar(toolitems=[('Home', 'Reset original view', 'home', 'home'), ('Back', 'Back to previous …"
      ]
     },
     "metadata": {},
     "output_type": "display_data"
    },
    {
     "data": {
      "text/plain": [
       "<matplotlib.colorbar.Colorbar at 0x1ce6dc1e50>"
      ]
     },
     "execution_count": 173,
     "metadata": {},
     "output_type": "execute_result"
    }
   ],
   "source": [
    "taille = 128\n",
    "periode = 32\n",
    "orientation = 0\n",
    "amplitude = 128\n",
    "val_moy = 0\n",
    "\n",
    "#on appelle la fonction qui génère l'image\n",
    "image = generation_sinus(taille,periode,orientation,amplitude,val_moy);\n",
    "\n",
    "#on affiche l'image résultat\n",
    "grey_map = plt.cm.gray \n",
    "plt.close(\"all\")\n",
    "plt.figure()\n",
    "plt.imshow(image, grey_map)\n",
    "\n",
    "#on calcule sa transformée de fourier \n",
    "spectre = np.fft.fft2(image) / (taille*taille)\n",
    "spectre = np.fft.fftshift(spectre)\n",
    "\n",
    "#pour avoir le spectre de raies et non les cn\n",
    "spectre = 2*spectre\n",
    "spectre[int(taille/2), int(taille/2)] = spectre[int(taille/2), int(taille/2)] / 2\n",
    "\n",
    "#on affiche le module de la FFT\n",
    "plt.figure()\n",
    "plt.imshow(abs(spectre), grey_map, extent = [-0.5 , 0.5-1/taille, -0.5 , 0.5-1/taille])\n",
    "plt.colorbar()\n"
   ]
  },
  {
   "cell_type": "markdown",
   "metadata": {},
   "source": [
    "**Réponse :** ..."
   ]
  },
  {
   "cell_type": "markdown",
   "metadata": {},
   "source": [
    "**ACTION :** Jouer sur la période en essayant les valeurs 16, 8 et 4 (orientation 0). Relever, pour ces différentes périodes, l’amplitude et la fréquence normalisées des raies. Jouer également sur l’amplitude et la valeur moyenne du signal 2-D. Commenter les résultats obtenus sur le spectre. Essayer ensuite la valeur 17 pour la période. Commenter le spectre obtenu à nouveau."
   ]
  },
  {
   "cell_type": "markdown",
   "metadata": {},
   "source": [
    "**Réponse :** ..."
   ]
  },
  {
   "cell_type": "markdown",
   "metadata": {},
   "source": [
    "**ACTION :** On souhaite augmenter la résolution fréquentielle par zero-padding. Exécuter le script suivant. Faire varier maintenant l’orientation du signal 2-D : essayer par exemple pi/2, et pi/4. Commenter. "
   ]
  },
  {
   "cell_type": "code",
   "execution_count": 174,
   "metadata": {},
   "outputs": [
    {
     "data": {
      "application/vnd.jupyter.widget-view+json": {
       "model_id": "",
       "version_major": 2,
       "version_minor": 0
      },
      "text/plain": [
       "Canvas(toolbar=Toolbar(toolitems=[('Home', 'Reset original view', 'home', 'home'), ('Back', 'Back to previous …"
      ]
     },
     "metadata": {},
     "output_type": "display_data"
    },
    {
     "data": {
      "application/vnd.jupyter.widget-view+json": {
       "model_id": "",
       "version_major": 2,
       "version_minor": 0
      },
      "text/plain": [
       "Canvas(toolbar=Toolbar(toolitems=[('Home', 'Reset original view', 'home', 'home'), ('Back', 'Back to previous …"
      ]
     },
     "metadata": {},
     "output_type": "display_data"
    },
    {
     "data": {
      "text/plain": [
       "<matplotlib.colorbar.Colorbar at 0x1cda531950>"
      ]
     },
     "execution_count": 174,
     "metadata": {},
     "output_type": "execute_result"
    }
   ],
   "source": [
    "taille = 128\n",
    "periode = 32\n",
    "orientation = 0\n",
    "amplitude = 128\n",
    "val_moy = 0\n",
    "   \n",
    "image = generation_sinus(taille,periode,orientation,amplitude,val_moy)\n",
    "\n",
    "#affichage de l'image\n",
    "plt.close(\"all\")\n",
    "plt.figure()\n",
    "plt.imshow(image, grey_map)\n",
    "\n",
    "\n",
    "#on calcule sa transformée de fourier \n",
    "#on définit le nombre de points pour calculer la FFT2D sur une dimension\n",
    "nb_point = 5*taille\n",
    "spectre = np.fft.fft2(image, (nb_point,nb_point)) / (taille*taille)\n",
    "spectre = np.fft.fftshift(spectre)\n",
    "\n",
    "#on affiche le module de la FFT\n",
    "plt.figure()\n",
    "plt.imshow(abs(spectre), grey_map, extent = [-0.5 , 0.5-1/taille, -0.5 , 0.5-1/taille])\n",
    "plt.colorbar()"
   ]
  },
  {
   "cell_type": "markdown",
   "metadata": {},
   "source": [
    "**Réponse :** ..."
   ]
  },
  {
   "cell_type": "code",
   "execution_count": 175,
   "metadata": {},
   "outputs": [],
   "source": [
    "\"\"\" définition d'une fonction permettant de générer des fonctions carrée et damier 2D\"\"\"\n",
    "\n",
    "import numpy as np\n",
    "%matplotlib widget \n",
    "import matplotlib.pyplot as plt\n",
    "\n",
    "def generation_carre(taille, periode, amplitude, val_moy) :\n",
    "    #taille : taille de l'image à générer\n",
    "    #periode : période en pixels\n",
    "    #amplitude : amplitude de l'onde carrée\n",
    "    #val_moy : valeur moyenne\n",
    "      \n",
    "    \n",
    "    image = np.zeros((taille,taille))\n",
    "    for i in range(int(periode/2)) :\n",
    "        image[:,i:64:periode] = 1\n",
    "                \n",
    "    image = val_moy + amplitude*(image-0.5)\n",
    "    \n",
    "    return image\n",
    "    \n",
    "def generation_damier(taille,periode,amplitude,val_moy) :\n",
    "    #taille : taille de l'image à générer\n",
    "    #periode : période en pixels\n",
    "    #orientation : orientation en radian\n",
    "    #val_moy : valeur moyenne\n",
    "\n",
    "    image1 = np.zeros((taille,taille))\n",
    "    image2 = np.zeros((taille,taille))\n",
    "\n",
    "\n",
    "    for i in range(0, int(periode/2)) :\n",
    "        image1[:, i:64:periode] = 1\n",
    "        image2[i:64:periode, :] = 1\n",
    "  \n",
    "    image = np.logical_xor(image1,image2)\n",
    "    image = val_moy + amplitude*(image-0.5)\n",
    "    \n",
    "    return image"
   ]
  },
  {
   "cell_type": "markdown",
   "metadata": {},
   "source": [
    "**ACTION :** Lancer les scripts suivants pour générer des signaux carré et damier. Jouer avec les paramètres et interpréter les résultats."
   ]
  },
  {
   "cell_type": "code",
   "execution_count": 176,
   "metadata": {},
   "outputs": [
    {
     "data": {
      "application/vnd.jupyter.widget-view+json": {
       "model_id": "",
       "version_major": 2,
       "version_minor": 0
      },
      "text/plain": [
       "Canvas(toolbar=Toolbar(toolitems=[('Home', 'Reset original view', 'home', 'home'), ('Back', 'Back to previous …"
      ]
     },
     "metadata": {},
     "output_type": "display_data"
    },
    {
     "data": {
      "application/vnd.jupyter.widget-view+json": {
       "model_id": "",
       "version_major": 2,
       "version_minor": 0
      },
      "text/plain": [
       "Canvas(toolbar=Toolbar(toolitems=[('Home', 'Reset original view', 'home', 'home'), ('Back', 'Back to previous …"
      ]
     },
     "metadata": {},
     "output_type": "display_data"
    },
    {
     "data": {
      "text/plain": [
       "<matplotlib.colorbar.Colorbar at 0x1cda7ec550>"
      ]
     },
     "execution_count": 176,
     "metadata": {},
     "output_type": "execute_result"
    }
   ],
   "source": [
    "'''Génération d'un signal carré'''\n",
    "taille = 64\n",
    "periode = 16\n",
    "amplitude = 128\n",
    "val_moy = 0\n",
    "\n",
    "#on appelle la fonction qui génère l'image\n",
    "image = generation_carre(taille,periode,amplitude,val_moy)\n",
    "\n",
    "#affichage de l'image\n",
    "plt.close(\"all\")\n",
    "plt.figure()\n",
    "plt.imshow(image, grey_map)\n",
    "\n",
    "#on calcule sa transformée de fourier \n",
    "spectre = np.fft.fft2(image) / (taille*taille)\n",
    "spectre = np.fft.fftshift(spectre)\n",
    "\n",
    "#pour avoir le spectre de raies et non les cn\n",
    "spectre = 2*spectre\n",
    "spectre[int(taille/2), int(taille/2)] = spectre[int(taille/2), int(taille/2)] / 2\n",
    "\n",
    "#on affiche le module de la FFT\n",
    "plt.figure()\n",
    "plt.imshow(abs(spectre), grey_map, extent = [-0.5 , 0.5-1/taille, -0.5 , 0.5-1/taille])\n",
    "plt.colorbar()"
   ]
  },
  {
   "cell_type": "markdown",
   "metadata": {},
   "source": [
    "**Analyse carré :** ..."
   ]
  },
  {
   "cell_type": "code",
   "execution_count": 179,
   "metadata": {},
   "outputs": [
    {
     "data": {
      "application/vnd.jupyter.widget-view+json": {
       "model_id": "",
       "version_major": 2,
       "version_minor": 0
      },
      "text/plain": [
       "Canvas(toolbar=Toolbar(toolitems=[('Home', 'Reset original view', 'home', 'home'), ('Back', 'Back to previous …"
      ]
     },
     "metadata": {},
     "output_type": "display_data"
    },
    {
     "data": {
      "application/vnd.jupyter.widget-view+json": {
       "model_id": "",
       "version_major": 2,
       "version_minor": 0
      },
      "text/plain": [
       "Canvas(toolbar=Toolbar(toolitems=[('Home', 'Reset original view', 'home', 'home'), ('Back', 'Back to previous …"
      ]
     },
     "metadata": {},
     "output_type": "display_data"
    },
    {
     "data": {
      "text/plain": [
       "<matplotlib.colorbar.Colorbar at 0x1cdd603590>"
      ]
     },
     "execution_count": 179,
     "metadata": {},
     "output_type": "execute_result"
    }
   ],
   "source": [
    "'''Génération d'un signal damier'''\n",
    "taille = 64\n",
    "periode = 16\n",
    "amplitude = 128\n",
    "val_moy = 0\n",
    "\n",
    "#on appelle la fonction qui génère l'image\n",
    "image = generation_damier(taille,periode,amplitude,val_moy)\n",
    "\n",
    "#affichage de l'image\n",
    "plt.close(\"all\")\n",
    "plt.figure()\n",
    "plt.imshow(image, grey_map)\n",
    "\n",
    "#on calcule sa transformée de fourier \n",
    "spectre = np.fft.fft2(image) / (taille*taille)\n",
    "spectre = np.fft.fftshift(spectre)\n",
    "\n",
    "#pour avoir le spectre de raies et non les cn\n",
    "spectre = 2*spectre\n",
    "spectre[int(taille/2), int(taille/2)] = spectre[int(taille/2), int(taille/2)] / 2\n",
    "\n",
    "#on affiche le module de la FFT\n",
    "plt.figure()\n",
    "plt.imshow(abs(spectre), grey_map, extent = [-0.5 , 0.5-1/taille, -0.5 , 0.5-1/taille])\n",
    "plt.colorbar()"
   ]
  },
  {
   "cell_type": "markdown",
   "metadata": {},
   "source": [
    "**Analyse damier :** ..."
   ]
  },
  {
   "cell_type": "markdown",
   "metadata": {},
   "source": [
    "**ACTION :** À partir des scripts précédents, écrire un script qui affiche une image naturelle  en niveaux de gris et son module de FFT2D. Le tester sur différentes images (vous pouvez utiliser les images fournies dans le dossier images.zip)."
   ]
  },
  {
   "cell_type": "code",
   "execution_count": 180,
   "metadata": {},
   "outputs": [],
   "source": [
    "#TODO\n",
    "   "
   ]
  },
  {
   "cell_type": "markdown",
   "metadata": {},
   "source": [
    "## Filtrage linéaire dans le domaine fréquentiel et dans le domaine spatial"
   ]
  },
  {
   "cell_type": "markdown",
   "metadata": {},
   "source": [
    "Dans cette partie, vous allez réaliser un filtrage linéaire sous Matlab de différentes manières. "
   ]
  },
  {
   "cell_type": "markdown",
   "metadata": {},
   "source": [
    "**ACTION :** Exécuter le script suivant qui permet de calculer et d'afficher la réponse impulsionnelle d'un filtre. Tester pour différentes valeurs de support."
   ]
  },
  {
   "cell_type": "code",
   "execution_count": 182,
   "metadata": {},
   "outputs": [
    {
     "data": {
      "application/vnd.jupyter.widget-view+json": {
       "model_id": "",
       "version_major": 2,
       "version_minor": 0
      },
      "text/plain": [
       "Canvas(toolbar=Toolbar(toolitems=[('Home', 'Reset original view', 'home', 'home'), ('Back', 'Back to previous …"
      ]
     },
     "metadata": {},
     "output_type": "display_data"
    },
    {
     "data": {
      "text/plain": [
       "<matplotlib.image.AxesImage at 0x1cde0cfe10>"
      ]
     },
     "execution_count": 182,
     "metadata": {},
     "output_type": "execute_result"
    }
   ],
   "source": [
    "'''Définition de la réponse impulsionnelle d'un filtre'''\n",
    "\n",
    "#on réalise un filtre 3x3 composé de 1\n",
    "support = 3\n",
    "filtre = np.ones((support,support)) / (support*support)\n",
    "\n",
    "#calcul et affichage de la fonction de transfert\n",
    "#on suppose que l'on filtre des images carrées de taille 512\n",
    "taille = 512\n",
    "\n",
    "#on calcule sa transformée de fourier (pas de padding)\n",
    "spectre_filtre = np.fft.fftshift(np.fft.fft2(filtre,(taille,taille))) / (support*support)\n",
    "\n",
    "#on affiche le module de la FFT\n",
    "plt.close(\"all\")\n",
    "plt.figure()\n",
    "plt.imshow(abs(spectre_filtre), grey_map, extent = [-0.5 , 0.5-1/taille, -0.5 , 0.5-1/taille])\n",
    "\n",
    "    "
   ]
  },
  {
   "cell_type": "markdown",
   "metadata": {},
   "source": [
    "**ACTION :** On réalise, dans la script suivant, le filtrage spatial d’une image en utilisant la fonction convolve2d de SciPy (bibliothèque de calcul scientifique) selon deux manières différentes. Comparer les deux images résultats et concluer (vous pouvez changer le support du filtre, dans ce cas il faut évidemment ré-exécuter le script précédent)."
   ]
  },
  {
   "cell_type": "code",
   "execution_count": 186,
   "metadata": {},
   "outputs": [
    {
     "data": {
      "application/vnd.jupyter.widget-view+json": {
       "model_id": "",
       "version_major": 2,
       "version_minor": 0
      },
      "text/plain": [
       "Canvas(toolbar=Toolbar(toolitems=[('Home', 'Reset original view', 'home', 'home'), ('Back', 'Back to previous …"
      ]
     },
     "metadata": {},
     "output_type": "display_data"
    },
    {
     "data": {
      "application/vnd.jupyter.widget-view+json": {
       "model_id": "",
       "version_major": 2,
       "version_minor": 0
      },
      "text/plain": [
       "Canvas(toolbar=Toolbar(toolitems=[('Home', 'Reset original view', 'home', 'home'), ('Back', 'Back to previous …"
      ]
     },
     "metadata": {},
     "output_type": "display_data"
    },
    {
     "data": {
      "text/plain": [
       "<matplotlib.image.AxesImage at 0x1cf32f4fd0>"
      ]
     },
     "execution_count": 186,
     "metadata": {},
     "output_type": "execute_result"
    }
   ],
   "source": [
    "import scipy as sp\n",
    "from scipy import signal\n",
    "\n",
    "#lecture d'une image carré\n",
    "image = plt.imread('FRUIT_LUMI.BMP')\n",
    "\n",
    "#on affiche l'image\n",
    "plt.figure()\n",
    "plt.imshow(image, grey_map)\n",
    "\n",
    "#filtrage en spatial\n",
    "image_filtree = sp.signal.convolve2d(image,filtre)\n",
    "image_filtree_2 = sp.signal.convolve2d(image,filtre,mode='same')\n",
    "\n",
    "#affichage\n",
    "plt.figure()\n",
    "plt.subplot(1,2,1)\n",
    "plt.imshow(image_filtree, grey_map)\n",
    "plt.subplot(1,2,2)\n",
    "plt.imshow(image_filtree_2, grey_map)"
   ]
  },
  {
   "cell_type": "markdown",
   "metadata": {},
   "source": [
    "**Réponse :**..."
   ]
  },
  {
   "cell_type": "markdown",
   "metadata": {},
   "source": [
    "**ACTION :** On utilise dans le script ci-dessous, la fonction fftconvolve. Après avoir observé les effets du filtrage en spatial, observer le résultat en fréquentiel à l’aide de la dernière partie du script."
   ]
  },
  {
   "cell_type": "code",
   "execution_count": 188,
   "metadata": {},
   "outputs": [
    {
     "data": {
      "application/vnd.jupyter.widget-view+json": {
       "model_id": "",
       "version_major": 2,
       "version_minor": 0
      },
      "text/plain": [
       "Canvas(toolbar=Toolbar(toolitems=[('Home', 'Reset original view', 'home', 'home'), ('Back', 'Back to previous …"
      ]
     },
     "metadata": {},
     "output_type": "display_data"
    },
    {
     "data": {
      "application/vnd.jupyter.widget-view+json": {
       "model_id": "",
       "version_major": 2,
       "version_minor": 0
      },
      "text/plain": [
       "Canvas(toolbar=Toolbar(toolitems=[('Home', 'Reset original view', 'home', 'home'), ('Back', 'Back to previous …"
      ]
     },
     "metadata": {},
     "output_type": "display_data"
    },
    {
     "data": {
      "application/vnd.jupyter.widget-view+json": {
       "model_id": "",
       "version_major": 2,
       "version_minor": 0
      },
      "text/plain": [
       "Canvas(toolbar=Toolbar(toolitems=[('Home', 'Reset original view', 'home', 'home'), ('Back', 'Back to previous …"
      ]
     },
     "metadata": {},
     "output_type": "display_data"
    },
    {
     "data": {
      "text/plain": [
       "<matplotlib.image.AxesImage at 0x1ccc138e90>"
      ]
     },
     "execution_count": 188,
     "metadata": {},
     "output_type": "execute_result"
    }
   ],
   "source": [
    "image_filtree_3 = sp.signal.fftconvolve(image, filtre)\n",
    "image_filtree_4 = sp.signal.fftconvolve(image, filtre, mode='valid')\n",
    "\n",
    "#affichage\n",
    "plt.figure()\n",
    "plt.subplot(1,2,1)\n",
    "plt.imshow(image_filtree_3, grey_map)\n",
    "plt.figure()\n",
    "plt.subplot(1,2,2)\n",
    "plt.imshow(image_filtree_4, grey_map)\n",
    "\n",
    "\n",
    "#observation du résultat en fréquentiel\n",
    "#on calcule les transformées de fourier de l'image et de l'image filtrée \n",
    "spectre_image = np.fft.fftshift(np.fft.fft2(image)) / image.size\n",
    "spectre_image_filtree_4 = np.fft.fftshift(np.fft.fft2(image_filtree_4)) / image.size\n",
    "\n",
    "plt.figure()\n",
    "plt.subplot(1,2,1)\n",
    "plt.imshow(np.log(abs(spectre_image)), grey_map, extent = [-0.5 , 0.5-1/taille, -0.5 , 0.5-1/taille])\n",
    "plt.subplot(1,2,2)\n",
    "plt.imshow(np.log(abs(spectre_image_filtree_4)), grey_map, extent = [-0.5 , 0.5-1/taille, -0.5 , 0.5-1/taille])"
   ]
  },
  {
   "cell_type": "markdown",
   "metadata": {},
   "source": [
    "**ACTION :** En utilisant la fonction time.time() de la bibliothèque time de Python, comparer le temps d’exécution entre un filtrage spatial et un filtrage en fréquentiel. Jouer sur la taille des supports et concluer. Vérifier vos résultats avec les informations donnes dans la doc de scipy."
   ]
  },
  {
   "cell_type": "markdown",
   "metadata": {},
   "source": [
    "**Réponse :** ..."
   ]
  },
  {
   "cell_type": "markdown",
   "metadata": {},
   "source": [
    "**ACTION :** Faire la même analyse avec le script suivant. Tester avec un autre filtre : ((-1,0,1),(-1,0,1),(-1,0,1))."
   ]
  },
  {
   "cell_type": "code",
   "execution_count": 189,
   "metadata": {},
   "outputs": [
    {
     "data": {
      "application/vnd.jupyter.widget-view+json": {
       "model_id": "737a7824d7614106a225aa25aa01095d",
       "version_major": 2,
       "version_minor": 0
      },
      "text/plain": [
       "Canvas(toolbar=Toolbar(toolitems=[('Home', 'Reset original view', 'home', 'home'), ('Back', 'Back to previous …"
      ]
     },
     "metadata": {},
     "output_type": "display_data"
    },
    {
     "data": {
      "application/vnd.jupyter.widget-view+json": {
       "model_id": "5088f6dc2e144b9aadd441eb4a3a8bb4",
       "version_major": 2,
       "version_minor": 0
      },
      "text/plain": [
       "Canvas(toolbar=Toolbar(toolitems=[('Home', 'Reset original view', 'home', 'home'), ('Back', 'Back to previous …"
      ]
     },
     "metadata": {},
     "output_type": "display_data"
    },
    {
     "data": {
      "application/vnd.jupyter.widget-view+json": {
       "model_id": "1f58afe479cd49eeaef1ab3501c77bd2",
       "version_major": 2,
       "version_minor": 0
      },
      "text/plain": [
       "Canvas(toolbar=Toolbar(toolitems=[('Home', 'Reset original view', 'home', 'home'), ('Back', 'Back to previous …"
      ]
     },
     "metadata": {},
     "output_type": "display_data"
    },
    {
     "data": {
      "application/vnd.jupyter.widget-view+json": {
       "model_id": "216d45e60fff4bc4824f6913dcc584d7",
       "version_major": 2,
       "version_minor": 0
      },
      "text/plain": [
       "Canvas(toolbar=Toolbar(toolitems=[('Home', 'Reset original view', 'home', 'home'), ('Back', 'Back to previous …"
      ]
     },
     "metadata": {},
     "output_type": "display_data"
    },
    {
     "data": {
      "text/plain": [
       "<matplotlib.image.AxesImage at 0x1cff0a28d0>"
      ]
     },
     "execution_count": 189,
     "metadata": {},
     "output_type": "execute_result"
    }
   ],
   "source": [
    "#on suppose que l'on filtre des images de taille 512\n",
    "taille = 512;\n",
    "#definition d'un filtre\n",
    "filtre_ph = [[-1,-1,-1], [0,0,0], [1,1,1]]\n",
    "support = 3\n",
    "   \n",
    "#on calcule sa transformée de fourier \n",
    "spectre_filtre_ph = np.fft.fftshift(np.fft.fft2(filtre_ph,(taille,taille))) / (support*support)\n",
    "   \n",
    "#on affiche le module de la FFT\n",
    "plt.close(\"all\") \n",
    "plt.figure()\n",
    "plt.imshow(abs(spectre_filtre_ph), grey_map)\n",
    "\n",
    "#lecture d'une image carré\n",
    "image = plt.imread('CLOWN_LUMI.BMP')\n",
    "  \n",
    "#on affiche l'image\n",
    "plt.figure()\n",
    "plt.imshow(image,grey_map)\n",
    "\n",
    "#filtrage en spatial\n",
    "image_filtree_ph = sp.signal.fftconvolve(image, filtre_ph, mode='valid')\n",
    "\n",
    "#affichage de l'image filtrée\n",
    "plt.figure()\n",
    "plt.imshow(image_filtree_ph, grey_map)\n",
    "\n",
    "#affichage des\n",
    "spectre_image = np.fft.fftshift(np.fft.fft2(image)) / image.size\n",
    "spectre_image_filtree_ph = np.fft.fftshift(np.fft.fft2(image_filtree_ph)) / image.size\n",
    "\n",
    "plt.figure()\n",
    "plt.subplot(1,2,1)\n",
    "plt.imshow(np.log(abs(spectre_image)), grey_map, extent = [-0.5 , 0.5-1/taille, -0.5 , 0.5-1/taille])\n",
    "plt.subplot(1,2,2)\n",
    "plt.imshow(np.log(abs(spectre_image_filtree_4)), grey_map, extent = [-0.5 , 0.5-1/taille, -0.5 , 0.5-1/taille])\n",
    "\n",
    "\n",
    "\n",
    "   "
   ]
  },
  {
   "cell_type": "markdown",
   "metadata": {},
   "source": [
    "**Réponse :** ..."
   ]
  }
 ],
 "metadata": {
  "kernelspec": {
   "display_name": "Python 3",
   "language": "python",
   "name": "python3"
  },
  "language_info": {
   "codemirror_mode": {
    "name": "ipython",
    "version": 3
   },
   "file_extension": ".py",
   "mimetype": "text/x-python",
   "name": "python",
   "nbconvert_exporter": "python",
   "pygments_lexer": "ipython3",
   "version": "3.6.9"
  }
 },
 "nbformat": 4,
 "nbformat_minor": 2
}
